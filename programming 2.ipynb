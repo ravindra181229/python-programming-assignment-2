{
 "cells": [
  {
   "cell_type": "code",
   "execution_count": 1,
   "id": "fdd44b70",
   "metadata": {},
   "outputs": [
    {
     "name": "stdout",
     "output_type": "stream",
     "text": [
      "enter the kilometers value 10\n",
      "10.0 kilometers is equal to 6.21371 miles\n"
     ]
    },
    {
     "data": {
      "text/plain": [
       "6.21371"
      ]
     },
     "execution_count": 1,
     "metadata": {},
     "output_type": "execute_result"
    }
   ],
   "source": [
    "#Q1 program to convert kilometers to miles\n",
    "def kil_mil():\n",
    "    kil0meters = float(input(\"enter the kilometers value \"))\n",
    "    convert = 0.621371\n",
    "    miles = kil0meters * convert\n",
    "    print('{0} kilometers is equal to {1} miles'.format(kil0meters,miles))\n",
    "    return miles\n",
    "kil_mil()"
   ]
  },
  {
   "cell_type": "code",
   "execution_count": 2,
   "id": "25f19695",
   "metadata": {},
   "outputs": [
    {
     "name": "stdout",
     "output_type": "stream",
     "text": [
      "enter the value of celsius 40\n",
      "40.0 celsius is 104.0 fahrenheit\n"
     ]
    },
    {
     "data": {
      "text/plain": [
       "104.0"
      ]
     },
     "execution_count": 2,
     "metadata": {},
     "output_type": "execute_result"
    }
   ],
   "source": [
    "#Q2 program to convert celsius to fahrenheit\n",
    "def cel_fer():\n",
    "    cel = float(input(\"enter the value of celsius \"))\n",
    "    fer = (cel * 1.8) + 32\n",
    "    print('{0} celsius is {1} fahrenheit'.format(cel,fer))\n",
    "    return fer\n",
    "cel_fer()"
   ]
  },
  {
   "cell_type": "code",
   "execution_count": 3,
   "id": "f0b9e290",
   "metadata": {},
   "outputs": [
    {
     "name": "stdout",
     "output_type": "stream",
     "text": [
      "enter the year 2021\n",
      "enter the month 7\n",
      "     July 2021\n",
      "Mo Tu We Th Fr Sa Su\n",
      "          1  2  3  4\n",
      " 5  6  7  8  9 10 11\n",
      "12 13 14 15 16 17 18\n",
      "19 20 21 22 23 24 25\n",
      "26 27 28 29 30 31\n",
      "\n"
     ]
    }
   ],
   "source": [
    "#Q3 program to display calendar\n",
    "import calendar\n",
    "year = int(input(\"enter the year \"))\n",
    "month = int(input(\"enter the month \"))\n",
    "print(calendar.month(year,month))"
   ]
  },
  {
   "cell_type": "code",
   "execution_count": 4,
   "id": "fc736b65",
   "metadata": {},
   "outputs": [
    {
     "name": "stdout",
     "output_type": "stream",
     "text": [
      "enter the first value 5\n",
      "enter the second value 6\n",
      "enter the third value 7\n",
      "answers for the following inputs are (-0.6-1.0198039027185568j) and (-0.6+1.0198039027185568j)\n"
     ]
    }
   ],
   "source": [
    "#program to slove quadratic equation\n",
    "#importing cmath module\n",
    "import cmath\n",
    "a = int(input(\"enter the first value \"))\n",
    "b = int(input(\"enter the second value \"))\n",
    "c = int(input(\"enter the third value \"))\n",
    "#quadratic equation formula\n",
    "d = (b**2) - (4*a*c)\n",
    "\n",
    "ans1 = (-b-cmath.sqrt(d))/(2*a)\n",
    "ans2 = (-b+cmath.sqrt(d))/(2*a)\n",
    "\n",
    "print(\"answers for the following inputs are {0} and {1}\".format(ans1,ans2))"
   ]
  },
  {
   "cell_type": "code",
   "execution_count": 5,
   "id": "be995ba0",
   "metadata": {},
   "outputs": [
    {
     "name": "stdout",
     "output_type": "stream",
     "text": [
      "enter the first number 30\n",
      "enter the second number 56\n",
      "56 is the value of a after swapping\n",
      "30 is the value of b after swapping\n"
     ]
    }
   ],
   "source": [
    "# program to swap two variables without temparory variable\n",
    "a = int(input(\"enter the first number \"))\n",
    "b = int(input(\"enter the second number \"))\n",
    "a,b = b,a\n",
    "print(\"{0} is the value of a after swapping\".format(a))\n",
    "print(\"{0} is the value of b after swapping\".format(b))"
   ]
  },
  {
   "cell_type": "code",
   "execution_count": null,
   "id": "e6b92394",
   "metadata": {},
   "outputs": [],
   "source": []
  }
 ],
 "metadata": {
  "kernelspec": {
   "display_name": "Python 3",
   "language": "python",
   "name": "python3"
  },
  "language_info": {
   "codemirror_mode": {
    "name": "ipython",
    "version": 3
   },
   "file_extension": ".py",
   "mimetype": "text/x-python",
   "name": "python",
   "nbconvert_exporter": "python",
   "pygments_lexer": "ipython3",
   "version": "3.8.8"
  }
 },
 "nbformat": 4,
 "nbformat_minor": 5
}
